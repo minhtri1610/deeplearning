{
  "nbformat": 4,
  "nbformat_minor": 0,
  "metadata": {
    "colab": {
      "provenance": [],
      "gpuType": "T4",
      "authorship_tag": "ABX9TyMLi6gnRJdZS/FMrrtn7OS3",
      "include_colab_link": true
    },
    "kernelspec": {
      "name": "python3",
      "display_name": "Python 3"
    },
    "language_info": {
      "name": "python"
    },
    "accelerator": "GPU"
  },
  "cells": [
    {
      "cell_type": "markdown",
      "metadata": {
        "id": "view-in-github",
        "colab_type": "text"
      },
      "source": [
        "<a href=\"https://colab.research.google.com/github/minhtri1610/deeplearning/blob/main/less2.ipynb\" target=\"_parent\"><img src=\"https://colab.research.google.com/assets/colab-badge.svg\" alt=\"Open In Colab\"/></a>"
      ]
    },
    {
      "cell_type": "markdown",
      "source": [
        "https://docs.google.com/document/d/1mkgS4ZKO3kPrdZDlLHYe_XJVI_VmoYEtj0ilNNbfC9E/edit"
      ],
      "metadata": {
        "id": "Lx0AgG57_vgQ"
      }
    },
    {
      "cell_type": "code",
      "execution_count": 2,
      "metadata": {
        "id": "TQ2ZP22o4ZcS"
      },
      "outputs": [],
      "source": [
        "import numpy as np\n",
        "import pandas as pd\n",
        "import matplotlib.pyplot as plt\n",
        "import tensorflow as tf\n",
        "from tensorflow import keras"
      ]
    },
    {
      "cell_type": "code",
      "source": [
        "mnist = tf.keras.datasets.fashion_mnist"
      ],
      "metadata": {
        "id": "KN-UHUys4ajF"
      },
      "execution_count": 3,
      "outputs": []
    },
    {
      "cell_type": "code",
      "source": [
        "(x_train, y_train), (x_test, y_test) = mnist.load_data()\n",
        "x_train, x_test = x_train / 255.0, x_test / 255.0"
      ],
      "metadata": {
        "colab": {
          "base_uri": "https://localhost:8080/"
        },
        "id": "tuDWTJDA4l5X",
        "outputId": "9af53075-83bf-434a-80a4-29cdb6dc75be"
      },
      "execution_count": 4,
      "outputs": [
        {
          "output_type": "stream",
          "name": "stdout",
          "text": [
            "Downloading data from https://storage.googleapis.com/tensorflow/tf-keras-datasets/train-labels-idx1-ubyte.gz\n",
            "29515/29515 [==============================] - 0s 0us/step\n",
            "Downloading data from https://storage.googleapis.com/tensorflow/tf-keras-datasets/train-images-idx3-ubyte.gz\n",
            "26421880/26421880 [==============================] - 0s 0us/step\n",
            "Downloading data from https://storage.googleapis.com/tensorflow/tf-keras-datasets/t10k-labels-idx1-ubyte.gz\n",
            "5148/5148 [==============================] - 0s 0us/step\n",
            "Downloading data from https://storage.googleapis.com/tensorflow/tf-keras-datasets/t10k-images-idx3-ubyte.gz\n",
            "4422102/4422102 [==============================] - 0s 0us/step\n"
          ]
        }
      ]
    },
    {
      "cell_type": "code",
      "source": [
        "x_train.shape"
      ],
      "metadata": {
        "colab": {
          "base_uri": "https://localhost:8080/"
        },
        "id": "qTB_T1A34pHW",
        "outputId": "bc027f23-6353-404b-ca18-0d1dedfc44af"
      },
      "execution_count": 5,
      "outputs": [
        {
          "output_type": "execute_result",
          "data": {
            "text/plain": [
              "(60000, 28, 28)"
            ]
          },
          "metadata": {},
          "execution_count": 5
        }
      ]
    },
    {
      "cell_type": "code",
      "source": [
        "y_train.shape"
      ],
      "metadata": {
        "colab": {
          "base_uri": "https://localhost:8080/"
        },
        "id": "XaYKfG5d4sdt",
        "outputId": "9d68bcd9-aed2-458b-a1ee-71a716b061f3"
      },
      "execution_count": 6,
      "outputs": [
        {
          "output_type": "execute_result",
          "data": {
            "text/plain": [
              "(60000,)"
            ]
          },
          "metadata": {},
          "execution_count": 6
        }
      ]
    },
    {
      "cell_type": "code",
      "source": [
        "min(y_train)"
      ],
      "metadata": {
        "colab": {
          "base_uri": "https://localhost:8080/"
        },
        "id": "8v513h404wL1",
        "outputId": "85fb1522-61ef-4e07-bfb2-9c539c715382"
      },
      "execution_count": 7,
      "outputs": [
        {
          "output_type": "execute_result",
          "data": {
            "text/plain": [
              "0"
            ]
          },
          "metadata": {},
          "execution_count": 7
        }
      ]
    },
    {
      "cell_type": "code",
      "source": [
        "max(y_train)"
      ],
      "metadata": {
        "colab": {
          "base_uri": "https://localhost:8080/"
        },
        "id": "cBEAq_EF46N2",
        "outputId": "8ac91b05-b915-47de-bbea-6184bcf88e16"
      },
      "execution_count": 8,
      "outputs": [
        {
          "output_type": "execute_result",
          "data": {
            "text/plain": [
              "9"
            ]
          },
          "metadata": {},
          "execution_count": 8
        }
      ]
    },
    {
      "cell_type": "markdown",
      "source": [
        "Ánh xạ dữ liệu"
      ],
      "metadata": {
        "id": "Ewoq_js65DCN"
      }
    },
    {
      "cell_type": "code",
      "source": [
        "labels = {0: \"T-shirt/top\", 1: \"Trouser\", 2 : \"Pullover\", 3:\"Dress\", 4: \"Coat\", 5: \"Sandal\", 6: \"Shirt\", 7: \"Sneaker\", 8: \"Bag\", 9: \"Ankle boot\"}\n",
        "labels"
      ],
      "metadata": {
        "colab": {
          "base_uri": "https://localhost:8080/"
        },
        "id": "zZIkG16A5CKu",
        "outputId": "48229820-b2c7-4002-ef15-180a37339db9"
      },
      "execution_count": 9,
      "outputs": [
        {
          "output_type": "execute_result",
          "data": {
            "text/plain": [
              "{0: 'T-shirt/top',\n",
              " 1: 'Trouser',\n",
              " 2: 'Pullover',\n",
              " 3: 'Dress',\n",
              " 4: 'Coat',\n",
              " 5: 'Sandal',\n",
              " 6: 'Shirt',\n",
              " 7: 'Sneaker',\n",
              " 8: 'Bag',\n",
              " 9: 'Ankle boot'}"
            ]
          },
          "metadata": {},
          "execution_count": 9
        }
      ]
    },
    {
      "cell_type": "code",
      "source": [
        "plt.figure()\n",
        "plt.imshow(x_train[20])\n",
        "plt.colorbar()"
      ],
      "metadata": {
        "colab": {
          "base_uri": "https://localhost:8080/",
          "height": 452
        },
        "id": "Q6bfF_iI5Jj0",
        "outputId": "2be74818-86ef-43c3-9c87-ff6dd5351804"
      },
      "execution_count": 10,
      "outputs": [
        {
          "output_type": "execute_result",
          "data": {
            "text/plain": [
              "<matplotlib.colorbar.Colorbar at 0x7d34dd97fd30>"
            ]
          },
          "metadata": {},
          "execution_count": 10
        },
        {
          "output_type": "display_data",
          "data": {
            "text/plain": [
              "<Figure size 640x480 with 2 Axes>"
            ],
            "image/png": "[encoded data removed]"
          },
          "metadata": {}
        }
      ]
    },
    {
      "cell_type": "markdown",
      "source": [
        "Train Model"
      ],
      "metadata": {
        "id": "C3zNIYRL51hr"
      }
    },
    {
      "cell_type": "code",
      "source": [
        "from tensorflow.keras import Sequential\n",
        "from tensorflow.keras.layers import Flatten, Dense"
      ],
      "metadata": {
        "id": "ULlhHago52PU"
      },
      "execution_count": 11,
      "outputs": []
    },
    {
      "cell_type": "markdown",
      "source": [
        "Khởi tạo neural network"
      ],
      "metadata": {
        "id": "a-NBa-sB58pT"
      }
    },
    {
      "cell_type": "code",
      "source": [
        "model = Sequential()"
      ],
      "metadata": {
        "id": "nsC3mqQR579E"
      },
      "execution_count": 12,
      "outputs": []
    },
    {
      "cell_type": "markdown",
      "source": [
        "Thêm lớp đầu vào có kích cỡ 28x28\n",
        "Flatten ở đây có nhiệm vụ duỗi ảnh từ ma trận (28 * 28) thành (784 * 1)"
      ],
      "metadata": {
        "id": "S9OrGhB16DKs"
      }
    },
    {
      "cell_type": "code",
      "source": [
        "model.add(Flatten(input_shape = (28, 28)))"
      ],
      "metadata": {
        "id": "HLRn0Lqj6Cqk"
      },
      "execution_count": 13,
      "outputs": []
    },
    {
      "cell_type": "markdown",
      "source": [
        "Thêm một lớp ẩn có cỡ (28 * 1). Hàm phi tuyến ReLU"
      ],
      "metadata": {
        "id": "_JjF0Z_i6RWf"
      }
    },
    {
      "cell_type": "code",
      "source": [
        "model.add(Dense(28, activation=\"relu\"))"
      ],
      "metadata": {
        "id": "SX7yuxxx6e4t"
      },
      "execution_count": 14,
      "outputs": []
    },
    {
      "cell_type": "markdown",
      "source": [
        "Thêm lớp softmax để thu về đầu ra là 10 lóp như mong muốn"
      ],
      "metadata": {
        "id": "wvo4JaM16koM"
      }
    },
    {
      "cell_type": "code",
      "source": [
        "model.add(Dense(10, activation=\"softmax\"))"
      ],
      "metadata": {
        "id": "S0u6jEww6j6V"
      },
      "execution_count": 15,
      "outputs": []
    },
    {
      "cell_type": "markdown",
      "source": [
        "Kiểm tra lại model trước khi train"
      ],
      "metadata": {
        "id": "d6xJPUcY6m9r"
      }
    },
    {
      "cell_type": "code",
      "source": [
        "model.summary()"
      ],
      "metadata": {
        "colab": {
          "base_uri": "https://localhost:8080/"
        },
        "id": "ztq6Kyec6qry",
        "outputId": "3fd7dab3-057e-4524-d5d3-e0f218e24bb3"
      },
      "execution_count": 16,
      "outputs": [
        {
          "output_type": "stream",
          "name": "stdout",
          "text": [
            "Model: \"sequential\"\n",
            "_________________________________________________________________\n",
            " Layer (type)                Output Shape              Param #   \n",
            "=================================================================\n",
            " flatten (Flatten)           (None, 784)               0         \n",
            "                                                                 \n",
            " dense (Dense)               (None, 28)                21980     \n",
            "                                                                 \n",
            " dense_1 (Dense)             (None, 10)                290       \n",
            "                                                                 \n",
            "=================================================================\n",
            "Total params: 22270 (86.99 KB)\n",
            "Trainable params: 22270 (86.99 KB)\n",
            "Non-trainable params: 0 (0.00 Byte)\n",
            "_________________________________________________________________\n"
          ]
        }
      ]
    },
    {
      "cell_type": "markdown",
      "source": [
        "Loss function: Hàm mất mát thể hiện độ sai lệch dự đoán model với nhãn thực tế"
      ],
      "metadata": {
        "id": "7o4MCSOu60vc"
      }
    },
    {
      "cell_type": "code",
      "source": [
        "model.compile(optimizer='adam', loss=\"sparse_categorical_crossentropy\", metrics=['accuracy'])\n"
      ],
      "metadata": {
        "id": "a9LY4OHB8X0c"
      },
      "execution_count": 17,
      "outputs": []
    },
    {
      "cell_type": "markdown",
      "source": [
        "Tiến hành train model trong 10 vòng lặp để tối ưu hoá loss function"
      ],
      "metadata": {
        "id": "tYb-B8Ba8mK7"
      }
    },
    {
      "cell_type": "code",
      "source": [
        "model.fit(x_train, y_train, epochs = 12)"
      ],
      "metadata": {
        "colab": {
          "base_uri": "https://localhost:8080/"
        },
        "id": "Xc83o_j88ka7",
        "outputId": "9f7bad9a-de7f-4566-9cb8-ac0957782d4a"
      },
      "execution_count": 28,
      "outputs": [
        {
          "output_type": "stream",
          "name": "stdout",
          "text": [
            "Epoch 1/12\n",
            "1875/1875 [==============================] - 7s 4ms/step - loss: 0.2936 - accuracy: 0.8928\n",
            "Epoch 2/12\n",
            "1875/1875 [==============================] - 5s 3ms/step - loss: 0.2893 - accuracy: 0.8934\n",
            "Epoch 3/12\n",
            "1875/1875 [==============================] - 6s 3ms/step - loss: 0.2834 - accuracy: 0.8961\n",
            "Epoch 4/12\n",
            "1875/1875 [==============================] - 5s 3ms/step - loss: 0.2797 - accuracy: 0.8973\n",
            "Epoch 5/12\n",
            "1875/1875 [==============================] - 6s 3ms/step - loss: 0.2774 - accuracy: 0.8980\n",
            "Epoch 6/12\n",
            "1875/1875 [==============================] - 6s 3ms/step - loss: 0.2719 - accuracy: 0.9001\n",
            "Epoch 7/12\n",
            "1875/1875 [==============================] - 5s 3ms/step - loss: 0.2689 - accuracy: 0.9001\n",
            "Epoch 8/12\n",
            "1875/1875 [==============================] - 6s 3ms/step - loss: 0.2668 - accuracy: 0.9021\n",
            "Epoch 9/12\n",
            "1875/1875 [==============================] - 5s 3ms/step - loss: 0.2648 - accuracy: 0.9029\n",
            "Epoch 10/12\n",
            "1875/1875 [==============================] - 6s 3ms/step - loss: 0.2592 - accuracy: 0.9042\n",
            "Epoch 11/12\n",
            "1875/1875 [==============================] - 5s 3ms/step - loss: 0.2572 - accuracy: 0.9056\n",
            "Epoch 12/12\n",
            "1875/1875 [==============================] - 5s 3ms/step - loss: 0.2544 - accuracy: 0.9067\n"
          ]
        },
        {
          "output_type": "execute_result",
          "data": {
            "text/plain": [
              "<keras.src.callbacks.History at 0x7d3435731f90>"
            ]
          },
          "metadata": {},
          "execution_count": 28
        }
      ]
    },
    {
      "cell_type": "markdown",
      "source": [
        "Kiểm tra độ chính xác hiện tại"
      ],
      "metadata": {
        "id": "NqqSLKW285ey"
      }
    },
    {
      "cell_type": "code",
      "source": [
        "from sklearn.metrics import accuracy_score"
      ],
      "metadata": {
        "id": "EkvSo3NU86AA"
      },
      "execution_count": 29,
      "outputs": []
    },
    {
      "cell_type": "code",
      "source": [
        "y_predicted = model.predict(x_test)"
      ],
      "metadata": {
        "colab": {
          "base_uri": "https://localhost:8080/"
        },
        "id": "ZEFvgLdz88g5",
        "outputId": "5b48bf67-e97c-4c41-c2bd-2036bf4784a7"
      },
      "execution_count": 30,
      "outputs": [
        {
          "output_type": "stream",
          "name": "stdout",
          "text": [
            "313/313 [==============================] - 1s 2ms/step\n"
          ]
        }
      ]
    },
    {
      "cell_type": "code",
      "source": [
        "y_predicted_classes = np.argmax(y_predicted, axis=1)"
      ],
      "metadata": {
        "id": "SROOgoJM9vir"
      },
      "execution_count": 31,
      "outputs": []
    },
    {
      "cell_type": "code",
      "source": [
        "accuracy_score(y_predicted_classes, y_test)"
      ],
      "metadata": {
        "colab": {
          "base_uri": "https://localhost:8080/"
        },
        "id": "We6HSX7e90s6",
        "outputId": "9da7da37-4e39-44ef-da05-7dd9d79ea44d"
      },
      "execution_count": 32,
      "outputs": [
        {
          "output_type": "execute_result",
          "data": {
            "text/plain": [
              "0.8732"
            ]
          },
          "metadata": {},
          "execution_count": 32
        }
      ]
    },
    {
      "cell_type": "markdown",
      "source": [
        "Quá trình inference (Truyền data không được train vào mô hình)"
      ],
      "metadata": {
        "id": "6LJWjDHH-Vxy"
      }
    },
    {
      "cell_type": "code",
      "source": [
        "x_inference = x_test[134]"
      ],
      "metadata": {
        "id": "NmTdDRrZ90kR"
      },
      "execution_count": 57,
      "outputs": []
    },
    {
      "cell_type": "code",
      "source": [
        "plt.figure()\n",
        "plt.imshow(x_inference)\n",
        "plt.colorbar()"
      ],
      "metadata": {
        "colab": {
          "base_uri": "https://localhost:8080/",
          "height": 452
        },
        "id": "j1Vh71G7-Z_Q",
        "outputId": "4b7c1116-7221-4782-b3fe-42a561360cc6"
      },
      "execution_count": 58,
      "outputs": [
        {
          "output_type": "execute_result",
          "data": {
            "text/plain": [
              "<matplotlib.colorbar.Colorbar at 0x7d3434b27f10>"
            ]
          },
          "metadata": {},
          "execution_count": 58
        },
        {
          "output_type": "display_data",
          "data": {
            "text/plain": [
              "<Figure size 640x480 with 2 Axes>"
            ],
            "image/png": "[encoded data removed]"
          },
          "metadata": {}
        }
      ]
    },
    {
      "cell_type": "code",
      "source": [
        "y_predicted = model.predict(np.array([x_inference]))"
      ],
      "metadata": {
        "colab": {
          "base_uri": "https://localhost:8080/"
        },
        "id": "VQoARbLO-diQ",
        "outputId": "7aa13f4b-535b-4c1c-c796-535ebae7a6ba"
      },
      "execution_count": 59,
      "outputs": [
        {
          "output_type": "stream",
          "name": "stdout",
          "text": [
            "1/1 [==============================] - 0s 22ms/step\n"
          ]
        }
      ]
    },
    {
      "cell_type": "code",
      "source": [
        "y_predicted_classes = np.argmax(y_predicted, axis=1)\n",
        "y_predicted_classes[0]"
      ],
      "metadata": {
        "colab": {
          "base_uri": "https://localhost:8080/"
        },
        "id": "K8aXVSh7-qsY",
        "outputId": "453e69be-ec53-4f70-9429-76019a91aec8"
      },
      "execution_count": 60,
      "outputs": [
        {
          "output_type": "execute_result",
          "data": {
            "text/plain": [
              "8"
            ]
          },
          "metadata": {},
          "execution_count": 60
        }
      ]
    },
    {
      "cell_type": "code",
      "source": [
        "labels[y_predicted_classes[0]]"
      ],
      "metadata": {
        "colab": {
          "base_uri": "https://localhost:8080/",
          "height": 35
        },
        "id": "WcwhJ1w3-5T_",
        "outputId": "b193afac-a3bb-4a4f-94fc-856dfb7a39ad"
      },
      "execution_count": 61,
      "outputs": [
        {
          "output_type": "execute_result",
          "data": {
            "text/plain": [
              "'Bag'"
            ],
            "application/vnd.google.colaboratory.intrinsic+json": {
              "type": "string"
            }
          },
          "metadata": {},
          "execution_count": 61
        }
      ]
    },
    {
      "cell_type": "markdown",
      "source": [],
      "metadata": {
        "id": "P6rYUVzn_sKh"
      }
    },
    {
      "cell_type": "markdown",
      "source": [],
      "metadata": {
        "id": "L2y3jI-X_t_S"
      }
    }
  ]
}